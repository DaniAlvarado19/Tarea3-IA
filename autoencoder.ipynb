{
 "cells": [
  {
   "cell_type": "markdown",
   "metadata": {},
   "source": [
    "## **Tarea 3**"
   ]
  },
  {
   "cell_type": "code",
   "execution_count": 11,
   "metadata": {},
   "outputs": [
    {
     "name": "stderr",
     "output_type": "stream",
     "text": [
      "Seed set to 42\n"
     ]
    },
    {
     "name": "stdout",
     "output_type": "stream",
     "text": [
      "Downloading http://fashion-mnist.s3-website.eu-central-1.amazonaws.com/train-images-idx3-ubyte.gz\n",
      "Downloading http://fashion-mnist.s3-website.eu-central-1.amazonaws.com/train-images-idx3-ubyte.gz to ./data\\FashionMNIST\\raw\\train-images-idx3-ubyte.gz\n"
     ]
    },
    {
     "name": "stderr",
     "output_type": "stream",
     "text": [
      "100%|██████████| 26.4M/26.4M [00:15<00:00, 1.68MB/s]\n"
     ]
    },
    {
     "name": "stdout",
     "output_type": "stream",
     "text": [
      "Extracting ./data\\FashionMNIST\\raw\\train-images-idx3-ubyte.gz to ./data\\FashionMNIST\\raw\n",
      "\n",
      "Downloading http://fashion-mnist.s3-website.eu-central-1.amazonaws.com/train-labels-idx1-ubyte.gz\n",
      "Downloading http://fashion-mnist.s3-website.eu-central-1.amazonaws.com/train-labels-idx1-ubyte.gz to ./data\\FashionMNIST\\raw\\train-labels-idx1-ubyte.gz\n"
     ]
    },
    {
     "name": "stderr",
     "output_type": "stream",
     "text": [
      "100%|██████████| 29.5k/29.5k [00:00<00:00, 188kB/s]\n"
     ]
    },
    {
     "name": "stdout",
     "output_type": "stream",
     "text": [
      "Extracting ./data\\FashionMNIST\\raw\\train-labels-idx1-ubyte.gz to ./data\\FashionMNIST\\raw\n",
      "\n",
      "Downloading http://fashion-mnist.s3-website.eu-central-1.amazonaws.com/t10k-images-idx3-ubyte.gz\n",
      "Downloading http://fashion-mnist.s3-website.eu-central-1.amazonaws.com/t10k-images-idx3-ubyte.gz to ./data\\FashionMNIST\\raw\\t10k-images-idx3-ubyte.gz\n"
     ]
    },
    {
     "name": "stderr",
     "output_type": "stream",
     "text": [
      "100%|██████████| 4.42M/4.42M [00:02<00:00, 2.00MB/s]\n"
     ]
    },
    {
     "name": "stdout",
     "output_type": "stream",
     "text": [
      "Extracting ./data\\FashionMNIST\\raw\\t10k-images-idx3-ubyte.gz to ./data\\FashionMNIST\\raw\n",
      "\n",
      "Downloading http://fashion-mnist.s3-website.eu-central-1.amazonaws.com/t10k-labels-idx1-ubyte.gz\n",
      "Downloading http://fashion-mnist.s3-website.eu-central-1.amazonaws.com/t10k-labels-idx1-ubyte.gz to ./data\\FashionMNIST\\raw\\t10k-labels-idx1-ubyte.gz\n"
     ]
    },
    {
     "name": "stderr",
     "output_type": "stream",
     "text": [
      "100%|██████████| 5.15k/5.15k [00:00<00:00, 5.15MB/s]\n"
     ]
    },
    {
     "name": "stdout",
     "output_type": "stream",
     "text": [
      "Extracting ./data\\FashionMNIST\\raw\\t10k-labels-idx1-ubyte.gz to ./data\\FashionMNIST\\raw\n",
      "\n"
     ]
    },
    {
     "name": "stderr",
     "output_type": "stream",
     "text": [
      "GPU available: False, used: False\n",
      "TPU available: False, using: 0 TPU cores\n",
      "HPU available: False, using: 0 HPUs\n",
      "\n",
      "  | Name        | Type        | Params | Mode \n",
      "----------------------------------------------------\n",
      "0 | autoencoder | Autoencoder | 3.4 M  | train\n",
      "----------------------------------------------------\n",
      "3.4 M     Trainable params\n",
      "0         Non-trainable params\n",
      "3.4 M     Total params\n",
      "13.747    Total estimated model params size (MB)\n",
      "29        Modules in train mode\n",
      "0         Modules in eval mode\n"
     ]
    },
    {
     "data": {
      "application/vnd.jupyter.widget-view+json": {
       "model_id": "859b4bdda2a74e77bd9d6211d634d03f",
       "version_major": 2,
       "version_minor": 0
      },
      "text/plain": [
       "Sanity Checking: |          | 0/? [00:00<?, ?it/s]"
      ]
     },
     "metadata": {},
     "output_type": "display_data"
    },
    {
     "data": {
      "application/vnd.jupyter.widget-view+json": {
       "model_id": "2c6ff817cfeb44c5ad1da86d5df30fa3",
       "version_major": 2,
       "version_minor": 0
      },
      "text/plain": [
       "Training: |          | 0/? [00:00<?, ?it/s]"
      ]
     },
     "metadata": {},
     "output_type": "display_data"
    },
    {
     "data": {
      "application/vnd.jupyter.widget-view+json": {
       "model_id": "aff4b45e4a074b6db72a2ee9857b4bca",
       "version_major": 2,
       "version_minor": 0
      },
      "text/plain": [
       "Validation: |          | 0/? [00:00<?, ?it/s]"
      ]
     },
     "metadata": {},
     "output_type": "display_data"
    },
    {
     "data": {
      "application/vnd.jupyter.widget-view+json": {
       "model_id": "953168cf59984d838f8e5c714bd06d84",
       "version_major": 2,
       "version_minor": 0
      },
      "text/plain": [
       "Validation: |          | 0/? [00:00<?, ?it/s]"
      ]
     },
     "metadata": {},
     "output_type": "display_data"
    },
    {
     "data": {
      "application/vnd.jupyter.widget-view+json": {
       "model_id": "fed3a9d8f11d4375b4c66dd0eeed0d1d",
       "version_major": 2,
       "version_minor": 0
      },
      "text/plain": [
       "Validation: |          | 0/? [00:00<?, ?it/s]"
      ]
     },
     "metadata": {},
     "output_type": "display_data"
    },
    {
     "data": {
      "application/vnd.jupyter.widget-view+json": {
       "model_id": "fda945d5777b44f3a5c44d8d0040faa7",
       "version_major": 2,
       "version_minor": 0
      },
      "text/plain": [
       "Validation: |          | 0/? [00:00<?, ?it/s]"
      ]
     },
     "metadata": {},
     "output_type": "display_data"
    },
    {
     "data": {
      "application/vnd.jupyter.widget-view+json": {
       "model_id": "44c739d083784479955d14a82cc28251",
       "version_major": 2,
       "version_minor": 0
      },
      "text/plain": [
       "Validation: |          | 0/? [00:00<?, ?it/s]"
      ]
     },
     "metadata": {},
     "output_type": "display_data"
    },
    {
     "data": {
      "application/vnd.jupyter.widget-view+json": {
       "model_id": "d762d540109c44a58e811ec1b1afd592",
       "version_major": 2,
       "version_minor": 0
      },
      "text/plain": [
       "Validation: |          | 0/? [00:00<?, ?it/s]"
      ]
     },
     "metadata": {},
     "output_type": "display_data"
    },
    {
     "data": {
      "application/vnd.jupyter.widget-view+json": {
       "model_id": "e8a5f7dca03f4d6f94aa9fbbe507001a",
       "version_major": 2,
       "version_minor": 0
      },
      "text/plain": [
       "Validation: |          | 0/? [00:00<?, ?it/s]"
      ]
     },
     "metadata": {},
     "output_type": "display_data"
    },
    {
     "data": {
      "application/vnd.jupyter.widget-view+json": {
       "model_id": "de04b07c861c47e1a2e8c9bc8ae97fd6",
       "version_major": 2,
       "version_minor": 0
      },
      "text/plain": [
       "Validation: |          | 0/? [00:00<?, ?it/s]"
      ]
     },
     "metadata": {},
     "output_type": "display_data"
    },
    {
     "data": {
      "application/vnd.jupyter.widget-view+json": {
       "model_id": "101a627b758f4ac3b468a9f74d446aee",
       "version_major": 2,
       "version_minor": 0
      },
      "text/plain": [
       "Validation: |          | 0/? [00:00<?, ?it/s]"
      ]
     },
     "metadata": {},
     "output_type": "display_data"
    },
    {
     "data": {
      "application/vnd.jupyter.widget-view+json": {
       "model_id": "5704ec82c84a486b8145772f1851a409",
       "version_major": 2,
       "version_minor": 0
      },
      "text/plain": [
       "Validation: |          | 0/? [00:00<?, ?it/s]"
      ]
     },
     "metadata": {},
     "output_type": "display_data"
    },
    {
     "data": {
      "application/vnd.jupyter.widget-view+json": {
       "model_id": "babe3f6cf9694543b3682f2b24ee7810",
       "version_major": 2,
       "version_minor": 0
      },
      "text/plain": [
       "Validation: |          | 0/? [00:00<?, ?it/s]"
      ]
     },
     "metadata": {},
     "output_type": "display_data"
    },
    {
     "data": {
      "application/vnd.jupyter.widget-view+json": {
       "model_id": "34d992e10c4346cb90631bf9cc42d22c",
       "version_major": 2,
       "version_minor": 0
      },
      "text/plain": [
       "Validation: |          | 0/? [00:00<?, ?it/s]"
      ]
     },
     "metadata": {},
     "output_type": "display_data"
    },
    {
     "data": {
      "application/vnd.jupyter.widget-view+json": {
       "model_id": "b0d13f52133b4232830b7970f3175b1d",
       "version_major": 2,
       "version_minor": 0
      },
      "text/plain": [
       "Validation: |          | 0/? [00:00<?, ?it/s]"
      ]
     },
     "metadata": {},
     "output_type": "display_data"
    },
    {
     "data": {
      "application/vnd.jupyter.widget-view+json": {
       "model_id": "17a706c095174c6ebdb09dc8b4850b05",
       "version_major": 2,
       "version_minor": 0
      },
      "text/plain": [
       "Validation: |          | 0/? [00:00<?, ?it/s]"
      ]
     },
     "metadata": {},
     "output_type": "display_data"
    },
    {
     "data": {
      "application/vnd.jupyter.widget-view+json": {
       "model_id": "5f68db69ee2a4c069e48e9654b7d9c4d",
       "version_major": 2,
       "version_minor": 0
      },
      "text/plain": [
       "Validation: |          | 0/? [00:00<?, ?it/s]"
      ]
     },
     "metadata": {},
     "output_type": "display_data"
    },
    {
     "data": {
      "application/vnd.jupyter.widget-view+json": {
       "model_id": "bf48ef48b8b94a618db9928204fb0e70",
       "version_major": 2,
       "version_minor": 0
      },
      "text/plain": [
       "Validation: |          | 0/? [00:00<?, ?it/s]"
      ]
     },
     "metadata": {},
     "output_type": "display_data"
    },
    {
     "data": {
      "application/vnd.jupyter.widget-view+json": {
       "model_id": "a04ca3890a6b42e7a04a51c1b0a6dfb9",
       "version_major": 2,
       "version_minor": 0
      },
      "text/plain": [
       "Validation: |          | 0/? [00:00<?, ?it/s]"
      ]
     },
     "metadata": {},
     "output_type": "display_data"
    },
    {
     "data": {
      "application/vnd.jupyter.widget-view+json": {
       "model_id": "b69073eaa03449bebd40e26d749dc605",
       "version_major": 2,
       "version_minor": 0
      },
      "text/plain": [
       "Validation: |          | 0/? [00:00<?, ?it/s]"
      ]
     },
     "metadata": {},
     "output_type": "display_data"
    },
    {
     "data": {
      "application/vnd.jupyter.widget-view+json": {
       "model_id": "fe6ff7c7c16e44ec8db1abcfd0a7fc66",
       "version_major": 2,
       "version_minor": 0
      },
      "text/plain": [
       "Validation: |          | 0/? [00:00<?, ?it/s]"
      ]
     },
     "metadata": {},
     "output_type": "display_data"
    },
    {
     "data": {
      "application/vnd.jupyter.widget-view+json": {
       "model_id": "df4d9fca69d3408cbcca3a15959296b9",
       "version_major": 2,
       "version_minor": 0
      },
      "text/plain": [
       "Validation: |          | 0/? [00:00<?, ?it/s]"
      ]
     },
     "metadata": {},
     "output_type": "display_data"
    },
    {
     "data": {
      "application/vnd.jupyter.widget-view+json": {
       "model_id": "bd3d8c68933d49568f7a9e743cd0e732",
       "version_major": 2,
       "version_minor": 0
      },
      "text/plain": [
       "Validation: |          | 0/? [00:00<?, ?it/s]"
      ]
     },
     "metadata": {},
     "output_type": "display_data"
    },
    {
     "data": {
      "application/vnd.jupyter.widget-view+json": {
       "model_id": "215384615b9a40fd9e1eaa28bb0bed28",
       "version_major": 2,
       "version_minor": 0
      },
      "text/plain": [
       "Validation: |          | 0/? [00:00<?, ?it/s]"
      ]
     },
     "metadata": {},
     "output_type": "display_data"
    },
    {
     "data": {
      "application/vnd.jupyter.widget-view+json": {
       "model_id": "c062f0ae100940e8b5b797b33ac700ce",
       "version_major": 2,
       "version_minor": 0
      },
      "text/plain": [
       "Validation: |          | 0/? [00:00<?, ?it/s]"
      ]
     },
     "metadata": {},
     "output_type": "display_data"
    },
    {
     "data": {
      "application/vnd.jupyter.widget-view+json": {
       "model_id": "b9d11fb2b65b488fa68db7b63e14400b",
       "version_major": 2,
       "version_minor": 0
      },
      "text/plain": [
       "Validation: |          | 0/? [00:00<?, ?it/s]"
      ]
     },
     "metadata": {},
     "output_type": "display_data"
    },
    {
     "data": {
      "application/vnd.jupyter.widget-view+json": {
       "model_id": "904e37dc6cab4e6697be3955546522b5",
       "version_major": 2,
       "version_minor": 0
      },
      "text/plain": [
       "Validation: |          | 0/? [00:00<?, ?it/s]"
      ]
     },
     "metadata": {},
     "output_type": "display_data"
    },
    {
     "data": {
      "application/vnd.jupyter.widget-view+json": {
       "model_id": "0a6d95a0852a4722a269e910f23d5f61",
       "version_major": 2,
       "version_minor": 0
      },
      "text/plain": [
       "Validation: |          | 0/? [00:00<?, ?it/s]"
      ]
     },
     "metadata": {},
     "output_type": "display_data"
    },
    {
     "data": {
      "application/vnd.jupyter.widget-view+json": {
       "model_id": "e72e2b2cd95b495a81f9c155369b1b2f",
       "version_major": 2,
       "version_minor": 0
      },
      "text/plain": [
       "Validation: |          | 0/? [00:00<?, ?it/s]"
      ]
     },
     "metadata": {},
     "output_type": "display_data"
    },
    {
     "data": {
      "application/vnd.jupyter.widget-view+json": {
       "model_id": "bad99242d6404e76bf9277d84831b6b5",
       "version_major": 2,
       "version_minor": 0
      },
      "text/plain": [
       "Validation: |          | 0/? [00:00<?, ?it/s]"
      ]
     },
     "metadata": {},
     "output_type": "display_data"
    },
    {
     "data": {
      "application/vnd.jupyter.widget-view+json": {
       "model_id": "737b4ff2b1be4c3dba533ea257bfab6c",
       "version_major": 2,
       "version_minor": 0
      },
      "text/plain": [
       "Validation: |          | 0/? [00:00<?, ?it/s]"
      ]
     },
     "metadata": {},
     "output_type": "display_data"
    },
    {
     "data": {
      "application/vnd.jupyter.widget-view+json": {
       "model_id": "25067ce8c027408bb333b74fde49224b",
       "version_major": 2,
       "version_minor": 0
      },
      "text/plain": [
       "Validation: |          | 0/? [00:00<?, ?it/s]"
      ]
     },
     "metadata": {},
     "output_type": "display_data"
    },
    {
     "data": {
      "application/vnd.jupyter.widget-view+json": {
       "model_id": "7f4ec2c40e3d42f4b9daef11e23250fc",
       "version_major": 2,
       "version_minor": 0
      },
      "text/plain": [
       "Validation: |          | 0/? [00:00<?, ?it/s]"
      ]
     },
     "metadata": {},
     "output_type": "display_data"
    },
    {
     "data": {
      "application/vnd.jupyter.widget-view+json": {
       "model_id": "b72b32a5e6b34e9e92a5275a2d06b3c0",
       "version_major": 2,
       "version_minor": 0
      },
      "text/plain": [
       "Validation: |          | 0/? [00:00<?, ?it/s]"
      ]
     },
     "metadata": {},
     "output_type": "display_data"
    },
    {
     "data": {
      "application/vnd.jupyter.widget-view+json": {
       "model_id": "f044ca8eb9754978bdc307a6b1bfd62d",
       "version_major": 2,
       "version_minor": 0
      },
      "text/plain": [
       "Validation: |          | 0/? [00:00<?, ?it/s]"
      ]
     },
     "metadata": {},
     "output_type": "display_data"
    },
    {
     "data": {
      "application/vnd.jupyter.widget-view+json": {
       "model_id": "ff6ef13abb414205bc6d3a14e3f510b0",
       "version_major": 2,
       "version_minor": 0
      },
      "text/plain": [
       "Validation: |          | 0/? [00:00<?, ?it/s]"
      ]
     },
     "metadata": {},
     "output_type": "display_data"
    },
    {
     "data": {
      "application/vnd.jupyter.widget-view+json": {
       "model_id": "1e2250760aa24d3a8b9f566262b83f62",
       "version_major": 2,
       "version_minor": 0
      },
      "text/plain": [
       "Validation: |          | 0/? [00:00<?, ?it/s]"
      ]
     },
     "metadata": {},
     "output_type": "display_data"
    },
    {
     "data": {
      "application/vnd.jupyter.widget-view+json": {
       "model_id": "c2c7f585d56b4253a4ebb29fc032799c",
       "version_major": 2,
       "version_minor": 0
      },
      "text/plain": [
       "Validation: |          | 0/? [00:00<?, ?it/s]"
      ]
     },
     "metadata": {},
     "output_type": "display_data"
    },
    {
     "data": {
      "application/vnd.jupyter.widget-view+json": {
       "model_id": "cde6861e59284534b0d448ef5dc248c9",
       "version_major": 2,
       "version_minor": 0
      },
      "text/plain": [
       "Validation: |          | 0/? [00:00<?, ?it/s]"
      ]
     },
     "metadata": {},
     "output_type": "display_data"
    },
    {
     "data": {
      "application/vnd.jupyter.widget-view+json": {
       "model_id": "9154b1c38dec474bb32639e8980a7873",
       "version_major": 2,
       "version_minor": 0
      },
      "text/plain": [
       "Validation: |          | 0/? [00:00<?, ?it/s]"
      ]
     },
     "metadata": {},
     "output_type": "display_data"
    },
    {
     "data": {
      "application/vnd.jupyter.widget-view+json": {
       "model_id": "87b2ddb9ab25490ab438ac696b8afc57",
       "version_major": 2,
       "version_minor": 0
      },
      "text/plain": [
       "Validation: |          | 0/? [00:00<?, ?it/s]"
      ]
     },
     "metadata": {},
     "output_type": "display_data"
    },
    {
     "data": {
      "application/vnd.jupyter.widget-view+json": {
       "model_id": "ed3ff6b6154c456a86c04328aa7c724e",
       "version_major": 2,
       "version_minor": 0
      },
      "text/plain": [
       "Validation: |          | 0/? [00:00<?, ?it/s]"
      ]
     },
     "metadata": {},
     "output_type": "display_data"
    },
    {
     "data": {
      "application/vnd.jupyter.widget-view+json": {
       "model_id": "9f86019368f6403cb7f7f3deb1c172b0",
       "version_major": 2,
       "version_minor": 0
      },
      "text/plain": [
       "Validation: |          | 0/? [00:00<?, ?it/s]"
      ]
     },
     "metadata": {},
     "output_type": "display_data"
    },
    {
     "data": {
      "application/vnd.jupyter.widget-view+json": {
       "model_id": "ef6dd259083a4eb78d17f994bc8d6efa",
       "version_major": 2,
       "version_minor": 0
      },
      "text/plain": [
       "Validation: |          | 0/? [00:00<?, ?it/s]"
      ]
     },
     "metadata": {},
     "output_type": "display_data"
    },
    {
     "data": {
      "application/vnd.jupyter.widget-view+json": {
       "model_id": "8847a6f13f1644f7bd39e222921b2ef4",
       "version_major": 2,
       "version_minor": 0
      },
      "text/plain": [
       "Validation: |          | 0/? [00:00<?, ?it/s]"
      ]
     },
     "metadata": {},
     "output_type": "display_data"
    },
    {
     "data": {
      "application/vnd.jupyter.widget-view+json": {
       "model_id": "024672a387e14b42aaa106036fcb2102",
       "version_major": 2,
       "version_minor": 0
      },
      "text/plain": [
       "Validation: |          | 0/? [00:00<?, ?it/s]"
      ]
     },
     "metadata": {},
     "output_type": "display_data"
    },
    {
     "data": {
      "application/vnd.jupyter.widget-view+json": {
       "model_id": "362275bf62b041df9b423f94de1be32b",
       "version_major": 2,
       "version_minor": 0
      },
      "text/plain": [
       "Validation: |          | 0/? [00:00<?, ?it/s]"
      ]
     },
     "metadata": {},
     "output_type": "display_data"
    },
    {
     "data": {
      "application/vnd.jupyter.widget-view+json": {
       "model_id": "adb6651a4a62410882ced94bf755da78",
       "version_major": 2,
       "version_minor": 0
      },
      "text/plain": [
       "Validation: |          | 0/? [00:00<?, ?it/s]"
      ]
     },
     "metadata": {},
     "output_type": "display_data"
    },
    {
     "data": {
      "application/vnd.jupyter.widget-view+json": {
       "model_id": "64b7cb4266674129b7d1f105a13334a9",
       "version_major": 2,
       "version_minor": 0
      },
      "text/plain": [
       "Validation: |          | 0/? [00:00<?, ?it/s]"
      ]
     },
     "metadata": {},
     "output_type": "display_data"
    },
    {
     "data": {
      "application/vnd.jupyter.widget-view+json": {
       "model_id": "5891ef7c4b91423fabcd71df214cf553",
       "version_major": 2,
       "version_minor": 0
      },
      "text/plain": [
       "Validation: |          | 0/? [00:00<?, ?it/s]"
      ]
     },
     "metadata": {},
     "output_type": "display_data"
    },
    {
     "data": {
      "application/vnd.jupyter.widget-view+json": {
       "model_id": "aa5071c3c7b04651becff6c9eb5799e4",
       "version_major": 2,
       "version_minor": 0
      },
      "text/plain": [
       "Validation: |          | 0/? [00:00<?, ?it/s]"
      ]
     },
     "metadata": {},
     "output_type": "display_data"
    },
    {
     "data": {
      "application/vnd.jupyter.widget-view+json": {
       "model_id": "80ea3861d2ab4ccfaad0390ffcdd1412",
       "version_major": 2,
       "version_minor": 0
      },
      "text/plain": [
       "Validation: |          | 0/? [00:00<?, ?it/s]"
      ]
     },
     "metadata": {},
     "output_type": "display_data"
    },
    {
     "name": "stderr",
     "output_type": "stream",
     "text": [
      "`Trainer.fit` stopped: `max_epochs=50` reached.\n",
      "c:\\Users\\dnlal\\AppData\\Local\\Programs\\Python\\Python312\\Lib\\site-packages\\pytorch_lightning\\trainer\\connectors\\data_connector.py:419: Consider setting `persistent_workers=True` in 'test_dataloader' to speed up the dataloader worker initialization.\n"
     ]
    },
    {
     "data": {
      "application/vnd.jupyter.widget-view+json": {
       "model_id": "2a8af4206788488ebd28e5fece4476b5",
       "version_major": 2,
       "version_minor": 0
      },
      "text/plain": [
       "Testing: |          | 0/? [00:00<?, ?it/s]"
      ]
     },
     "metadata": {},
     "output_type": "display_data"
    },
    {
     "data": {
      "text/html": [
       "<pre style=\"white-space:pre;overflow-x:auto;line-height:normal;font-family:Menlo,'DejaVu Sans Mono',consolas,'Courier New',monospace\">┏━━━━━━━━━━━━━━━━━━━━━━━━━━━┳━━━━━━━━━━━━━━━━━━━━━━━━━━━┓\n",
       "┃<span style=\"font-weight: bold\">        Test metric        </span>┃<span style=\"font-weight: bold\">       DataLoader 0        </span>┃\n",
       "┡━━━━━━━━━━━━━━━━━━━━━━━━━━━╇━━━━━━━━━━━━━━━━━━━━━━━━━━━┩\n",
       "│<span style=\"color: #008080; text-decoration-color: #008080\">     test/latent_norm      </span>│<span style=\"color: #800080; text-decoration-color: #800080\">     73.33928680419922     </span>│\n",
       "│<span style=\"color: #008080; text-decoration-color: #008080\">         test/loss         </span>│<span style=\"color: #800080; text-decoration-color: #800080\">   0.004447298590093851    </span>│\n",
       "│<span style=\"color: #008080; text-decoration-color: #008080\">         test/psnr         </span>│<span style=\"color: #800080; text-decoration-color: #800080\">    23.546525955200195     </span>│\n",
       "└───────────────────────────┴───────────────────────────┘\n",
       "</pre>\n"
      ],
      "text/plain": [
       "┏━━━━━━━━━━━━━━━━━━━━━━━━━━━┳━━━━━━━━━━━━━━━━━━━━━━━━━━━┓\n",
       "┃\u001b[1m \u001b[0m\u001b[1m       Test metric       \u001b[0m\u001b[1m \u001b[0m┃\u001b[1m \u001b[0m\u001b[1m      DataLoader 0       \u001b[0m\u001b[1m \u001b[0m┃\n",
       "┡━━━━━━━━━━━━━━━━━━━━━━━━━━━╇━━━━━━━━━━━━━━━━━━━━━━━━━━━┩\n",
       "│\u001b[36m \u001b[0m\u001b[36m    test/latent_norm     \u001b[0m\u001b[36m \u001b[0m│\u001b[35m \u001b[0m\u001b[35m    73.33928680419922    \u001b[0m\u001b[35m \u001b[0m│\n",
       "│\u001b[36m \u001b[0m\u001b[36m        test/loss        \u001b[0m\u001b[36m \u001b[0m│\u001b[35m \u001b[0m\u001b[35m  0.004447298590093851   \u001b[0m\u001b[35m \u001b[0m│\n",
       "│\u001b[36m \u001b[0m\u001b[36m        test/psnr        \u001b[0m\u001b[36m \u001b[0m│\u001b[35m \u001b[0m\u001b[35m   23.546525955200195    \u001b[0m\u001b[35m \u001b[0m│\n",
       "└───────────────────────────┴───────────────────────────┘\n"
      ]
     },
     "metadata": {},
     "output_type": "display_data"
    }
   ],
   "source": [
    "import os\n",
    "import torch\n",
    "import torch.nn as nn\n",
    "from torchvision import datasets, transforms\n",
    "import hydra\n",
    "import pytorch_lightning as pl\n",
    "from omegaconf import DictConfig, OmegaConf\n",
    "import matplotlib.pyplot as plt\n",
    "import sys\n",
    "from pytorch_lightning.callbacks import ModelCheckpoint, EarlyStopping\n",
    "import numpy as np\n",
    "from sklearn.manifold import TSNE\n",
    "import seaborn as sns\n",
    "import pandas as pd\n",
    "\n",
    "# Verificar si se está ejecutando dentro de un notebook\n",
    "def is_notebook() -> bool:\n",
    "    \"\"\"\n",
    "    Comprueba si el código se está ejecutando dentro de un Jupyter Notebook.\n",
    "\n",
    "    Returns:\n",
    "        bool: True si es un notebook, False en caso contrario.\n",
    "    \"\"\"\n",
    "    try:\n",
    "        return 'ipykernel' in sys.modules\n",
    "    except NameError:\n",
    "        return False\n",
    "\n",
    "class Autoencoder(nn.Module):\n",
    "    def __init__(self, latent_dim=64):\n",
    "        \"\"\"\n",
    "        Inicializa el autoencoder con un espacio latente de dimensión especificada.\n",
    "\n",
    "        Args:\n",
    "            latent_dim (int): Dimensión del espacio latente.\n",
    "        \"\"\"\n",
    "        super(Autoencoder, self).__init__()\n",
    "        self.latent_dim = latent_dim\n",
    "\n",
    "        # Definición del encoder\n",
    "        self.encoder = nn.Sequential(\n",
    "            nn.Conv2d(1, 32, 3, stride=1, padding=1),   # Salida: 32 x 28 x 28\n",
    "            nn.BatchNorm2d(32),\n",
    "            nn.ReLU(),\n",
    "            nn.Conv2d(32, 64, 3, stride=2, padding=1),  # Salida: 64 x 14 x 14\n",
    "            nn.BatchNorm2d(64),\n",
    "            nn.ReLU(),\n",
    "            nn.Conv2d(64, 128, 3, stride=2, padding=1), # Salida: 128 x 7 x 7\n",
    "            nn.BatchNorm2d(128),\n",
    "            nn.ReLU(),\n",
    "            nn.Flatten(),\n",
    "            nn.Linear(128 * 7 * 7, 256),\n",
    "            nn.ReLU(),\n",
    "            nn.Linear(256, self.latent_dim)\n",
    "        )\n",
    "\n",
    "        # Definición del decoder\n",
    "        self.decoder = nn.Sequential(\n",
    "            nn.Linear(self.latent_dim, 256),\n",
    "            nn.ReLU(),\n",
    "            nn.Linear(256, 128 * 7 * 7),\n",
    "            nn.ReLU(),\n",
    "            nn.Unflatten(1, (128, 7, 7)),\n",
    "            nn.ConvTranspose2d(128, 64, 3, stride=2, padding=1, output_padding=1), # Salida: 64 x 14 x 14\n",
    "            nn.BatchNorm2d(64),\n",
    "            nn.ReLU(),\n",
    "            nn.ConvTranspose2d(64, 32, 3, stride=2, padding=1, output_padding=1),  # Salida: 32 x 28 x 28\n",
    "            nn.BatchNorm2d(32),\n",
    "            nn.ReLU(),\n",
    "            nn.Conv2d(32, 1, kernel_size=3, padding=1),  # Salida: 1 x 28 x 28\n",
    "            nn.Sigmoid()\n",
    "        )\n",
    "\n",
    "    def encode(self, x):\n",
    "        \"\"\"\n",
    "        Codifica las imágenes de entrada en un espacio latente.\n",
    "\n",
    "        Args:\n",
    "            x (Tensor): Imágenes de entrada.\n",
    "\n",
    "        Returns:\n",
    "            Tensor: Representaciones en el espacio latente.\n",
    "        \"\"\"\n",
    "        return self.encoder(x)\n",
    "\n",
    "    def decode(self, z):\n",
    "        \"\"\"\n",
    "        Decodifica las representaciones latentes para reconstruir las imágenes.\n",
    "\n",
    "        Args:\n",
    "            z (Tensor): Representaciones en el espacio latente.\n",
    "\n",
    "        Returns:\n",
    "            Tensor: Imágenes reconstruidas.\n",
    "        \"\"\"\n",
    "        return self.decoder(z)\n",
    "\n",
    "    def forward(self, x):\n",
    "        \"\"\"\n",
    "        Pasa adelante por el modelo completo (encoder y decoder).\n",
    "\n",
    "        Args:\n",
    "            x (Tensor): Imágenes de entrada.\n",
    "\n",
    "        Returns:\n",
    "            Tensor: Imágenes reconstruidas.\n",
    "        \"\"\"\n",
    "        z = self.encode(x)\n",
    "        return self.decode(z)\n",
    "\n",
    "class LitAutoencoder(pl.LightningModule):\n",
    "    def __init__(self, config):\n",
    "        \"\"\"\n",
    "        Módulo Lightning que envuelve el autoencoder y maneja el entrenamiento.\n",
    "\n",
    "        Args:\n",
    "            config (DictConfig): Configuración del modelo y entrenamiento.\n",
    "        \"\"\"\n",
    "        super(LitAutoencoder, self).__init__()\n",
    "        self.save_hyperparameters()\n",
    "        self.learning_rate = config.model.learning_rate\n",
    "        self.weight_decay = config.model.weight_decay\n",
    "        self.autoencoder = Autoencoder(latent_dim=config.model.latent_dim)\n",
    "\n",
    "    def forward(self, x):\n",
    "        \"\"\"\n",
    "        Pasa adelante por el autoencoder.\n",
    "\n",
    "        Args:\n",
    "            x (Tensor): Imágenes de entrada.\n",
    "\n",
    "        Returns:\n",
    "            Tensor: Imágenes reconstruidas.\n",
    "        \"\"\"\n",
    "        return self.autoencoder(x)\n",
    "\n",
    "    def _common_step(self, batch, batch_idx, step_type):\n",
    "        \"\"\"\n",
    "        Paso común para entrenamiento, validación y prueba.\n",
    "\n",
    "        Args:\n",
    "            batch (tuple): Batch de datos.\n",
    "            batch_idx (int): Índice del batch.\n",
    "            step_type (str): Tipo de paso ('train', 'val' o 'test').\n",
    "\n",
    "        Returns:\n",
    "            dict: Diccionario con pérdida y métricas.\n",
    "        \"\"\"\n",
    "        x, _ = batch\n",
    "        x = x.to(self.device)\n",
    "        z = self.autoencoder.encode(x)\n",
    "        x_hat = self.autoencoder.decode(z)\n",
    "        loss = nn.functional.mse_loss(x_hat, x)\n",
    "\n",
    "        psnr = 20 * torch.log10(1.0 / torch.sqrt(loss))\n",
    "        latent_norm = torch.norm(z, dim=1).mean()\n",
    "\n",
    "        # Registro de métricas\n",
    "        self.log(f'{step_type}/loss', loss)\n",
    "        self.log(f'{step_type}/psnr', psnr)\n",
    "        self.log(f'{step_type}/latent_norm', latent_norm)\n",
    "\n",
    "        return {\n",
    "            'loss': loss,\n",
    "            'psnr': psnr,\n",
    "            'reconstructions': x_hat,\n",
    "            'originals': x,\n",
    "            'latent': z\n",
    "        }\n",
    "\n",
    "    def training_step(self, batch, batch_idx):\n",
    "        \"\"\"\n",
    "        Paso de entrenamiento.\n",
    "\n",
    "        Args:\n",
    "            batch (tuple): Batch de datos.\n",
    "            batch_idx (int): Índice del batch.\n",
    "\n",
    "        Returns:\n",
    "            Tensor: Pérdida de entrenamiento.\n",
    "        \"\"\"\n",
    "        results = self._common_step(batch, batch_idx, 'train')\n",
    "        return results['loss']\n",
    "\n",
    "    def validation_step(self, batch, batch_idx):\n",
    "        \"\"\"\n",
    "        Paso de validación.\n",
    "\n",
    "        Args:\n",
    "            batch (tuple): Batch de datos.\n",
    "            batch_idx (int): Índice del batch.\n",
    "        \"\"\"\n",
    "        self._common_step(batch, batch_idx, 'val')\n",
    "\n",
    "    def test_step(self, batch, batch_idx):\n",
    "        \"\"\"\n",
    "        Paso de prueba.\n",
    "\n",
    "        Args:\n",
    "            batch (tuple): Batch de datos.\n",
    "            batch_idx (int): Índice del batch.\n",
    "        \"\"\"\n",
    "        self._common_step(batch, batch_idx, 'test')\n",
    "\n",
    "    def configure_optimizers(self):\n",
    "        \"\"\"\n",
    "        Configura los optimizadores y programadores de tasa de aprendizaje.\n",
    "\n",
    "        Returns:\n",
    "            dict: Diccionario con optimizador y programador.\n",
    "        \"\"\"\n",
    "        optimizer = torch.optim.AdamW(\n",
    "            self.parameters(),\n",
    "            lr=self.learning_rate,\n",
    "            weight_decay=self.weight_decay\n",
    "        )\n",
    "        scheduler = torch.optim.lr_scheduler.ReduceLROnPlateau(\n",
    "            optimizer,\n",
    "            mode='min',\n",
    "            factor=0.5,\n",
    "            patience=5,\n",
    "            min_lr=1e-6\n",
    "        )\n",
    "        return {\n",
    "            \"optimizer\": optimizer,\n",
    "            \"lr_scheduler\": {\n",
    "                \"scheduler\": scheduler,\n",
    "                \"monitor\": \"val/loss\",\n",
    "                \"frequency\": 1\n",
    "            }\n",
    "        }\n",
    "\n",
    "class ReconstructionCallback(pl.Callback):\n",
    "    def __init__(self, val_samples, save_dir, val_loader, epoch_interval=5, num_samples=10):\n",
    "        \"\"\"\n",
    "        Callback para visualizar reconstrucciones y el espacio latente.\n",
    "\n",
    "        Args:\n",
    "            val_samples (Tensor): Muestras de validación.\n",
    "            save_dir (str): Directorio para guardar resultados.\n",
    "            val_loader (DataLoader): DataLoader de validación.\n",
    "            epoch_interval (int): Intervalo de épocas para visualizar.\n",
    "            num_samples (int): Número de muestras a visualizar.\n",
    "        \"\"\"\n",
    "        super().__init__()\n",
    "        self.val_samples = val_samples\n",
    "        self.epoch_interval = epoch_interval\n",
    "        self.num_samples = num_samples\n",
    "        self.save_dir = save_dir\n",
    "        self.val_loader = val_loader\n",
    "        os.makedirs(save_dir, exist_ok=True)\n",
    "\n",
    "    def on_validation_epoch_end(self, trainer, pl_module):\n",
    "        \"\"\"\n",
    "        Evento al final de cada época de validación.\n",
    "\n",
    "        Args:\n",
    "            trainer (Trainer): Instancia del entrenador.\n",
    "            pl_module (LightningModule): Modelo actual.\n",
    "        \"\"\"\n",
    "        epoch = trainer.current_epoch\n",
    "        if epoch % self.epoch_interval == 0 or epoch == trainer.max_epochs - 1:\n",
    "            val_samples = self.val_samples.to(pl_module.device)\n",
    "            reconstructed = pl_module(val_samples)\n",
    "            fig = self.plot_reconstruction(val_samples, reconstructed, epoch)\n",
    "\n",
    "            save_path = os.path.join(self.save_dir, f'reconstruction_epoch_{epoch}.png')\n",
    "            plt.savefig(save_path)\n",
    "            plt.close(fig)\n",
    "\n",
    "            if epoch == trainer.max_epochs - 1:\n",
    "                self.visualize_latent_space(pl_module)\n",
    "\n",
    "    def plot_reconstruction(self, originals, reconstructed, epoch):\n",
    "        \"\"\"\n",
    "        Genera y guarda una figura comparando originales y reconstrucciones.\n",
    "\n",
    "        Args:\n",
    "            originals (Tensor): Imágenes originales.\n",
    "            reconstructed (Tensor): Imágenes reconstruidas.\n",
    "            epoch (int): Época actual.\n",
    "\n",
    "        Returns:\n",
    "            Figure: Figura generada.\n",
    "        \"\"\"\n",
    "        fig = plt.figure(figsize=(20, 4))\n",
    "        plt.suptitle(f'Epoch {epoch}')\n",
    "\n",
    "        originals = originals[:self.num_samples].cpu().detach()\n",
    "        reconstructed = reconstructed[:self.num_samples].cpu().detach()\n",
    "\n",
    "        for i in range(self.num_samples):\n",
    "            # Imágenes originales\n",
    "            ax = plt.subplot(2, self.num_samples, i + 1)\n",
    "            plt.imshow(originals[i].squeeze(0), cmap='gray')\n",
    "            if i == 0:\n",
    "                plt.title(\"Original\")\n",
    "            plt.axis(\"off\")\n",
    "\n",
    "            # Imágenes reconstruidas\n",
    "            ax = plt.subplot(2, self.num_samples, i + 1 + self.num_samples)\n",
    "            plt.imshow(reconstructed[i].squeeze(0), cmap='gray')\n",
    "            if i == 0:\n",
    "                plt.title(\"Reconstrucción\")\n",
    "            plt.axis(\"off\")\n",
    "\n",
    "        plt.tight_layout()\n",
    "        return fig\n",
    "\n",
    "    def visualize_latent_space(self, pl_module):\n",
    "        \"\"\"\n",
    "        Visualiza el espacio latente usando t-SNE al final del entrenamiento.\n",
    "\n",
    "        Args:\n",
    "            pl_module (LightningModule): Modelo entrenado.\n",
    "        \"\"\"\n",
    "        latent_vectors = []\n",
    "        labels = []\n",
    "\n",
    "        pl_module.eval()\n",
    "\n",
    "        with torch.no_grad():\n",
    "            for batch in self.val_loader:\n",
    "                x, y = batch\n",
    "                z = pl_module.autoencoder.encode(x.to(pl_module.device))\n",
    "                latent_vectors.append(z.cpu())\n",
    "                labels.extend(y.numpy())\n",
    "\n",
    "        latent_vectors = torch.cat(latent_vectors, dim=0).numpy()\n",
    "\n",
    "        tsne = TSNE(n_components=2, random_state=42)\n",
    "        latent_2d = tsne.fit_transform(latent_vectors)\n",
    "\n",
    "        plt.figure(figsize=(10, 10))\n",
    "        scatter = plt.scatter(latent_2d[:, 0], latent_2d[:, 1], c=labels, cmap='tab10')\n",
    "        plt.colorbar(scatter)\n",
    "        plt.title('Visualización t-SNE del Espacio Latente')\n",
    "        plt.savefig(os.path.join(self.save_dir, 'latent_space_tsne.png'))\n",
    "        plt.close()\n",
    "\n",
    "# Adaptar para Jupyter o script regular\n",
    "def main(cfg: DictConfig):\n",
    "    \"\"\"\n",
    "    Función principal que configura los datos, el modelo y ejecuta el entrenamiento.\n",
    "\n",
    "    Args:\n",
    "        cfg (DictConfig): Configuración completa del experimento.\n",
    "    \"\"\"\n",
    "    pl.seed_everything(cfg.seed)\n",
    "\n",
    "    # Transformaciones y normalización\n",
    "    transform = transforms.Compose([\n",
    "        transforms.ToTensor(),\n",
    "        # No se realiza normalización adicional porque la salida es entre 0 y 1\n",
    "    ])\n",
    "\n",
    "    # Carga del conjunto de datos completo de entrenamiento\n",
    "    full_train_dataset = datasets.FashionMNIST(\n",
    "        root=cfg.dataset.root,\n",
    "        train=True,\n",
    "        download=True,\n",
    "        transform=transform\n",
    "    )\n",
    "\n",
    "    # División en entrenamiento y validación\n",
    "    train_size = int((1 - cfg.dataset.val_split) * len(full_train_dataset))\n",
    "    val_size = len(full_train_dataset) - train_size\n",
    "    train_dataset, val_dataset = torch.utils.data.random_split(\n",
    "        full_train_dataset,\n",
    "        [train_size, val_size]\n",
    "    )\n",
    "\n",
    "    # DataLoader para entrenamiento\n",
    "    train_loader = torch.utils.data.DataLoader(\n",
    "        train_dataset,\n",
    "        batch_size=cfg.dataset.batch_size,\n",
    "        shuffle=True,\n",
    "        num_workers=cfg.dataset.num_workers\n",
    "    )\n",
    "\n",
    "    # DataLoader para validación\n",
    "    val_loader = torch.utils.data.DataLoader(\n",
    "        val_dataset,\n",
    "        batch_size=cfg.dataset.batch_size,\n",
    "        shuffle=False,\n",
    "        num_workers=cfg.dataset.num_workers\n",
    "    )\n",
    "\n",
    "    # DataLoader para prueba\n",
    "    test_loader = torch.utils.data.DataLoader(\n",
    "        datasets.FashionMNIST(\n",
    "            root=cfg.dataset.root,\n",
    "            train=False,\n",
    "            download=True,\n",
    "            transform=transform\n",
    "        ),\n",
    "        batch_size=cfg.dataset.batch_size,\n",
    "        shuffle=False,\n",
    "        num_workers=cfg.dataset.num_workers\n",
    "    )\n",
    "\n",
    "    # Inicialización del modelo\n",
    "    model = LitAutoencoder(cfg)\n",
    "\n",
    "    # Muestras para visualización de reconstrucciones\n",
    "    val_samples, _ = next(iter(val_loader))\n",
    "    val_samples = val_samples[:cfg.visualization.num_samples]\n",
    "\n",
    "    # Definición de callbacks\n",
    "    callbacks = [\n",
    "        ReconstructionCallback(\n",
    "            val_samples,\n",
    "            save_dir=cfg.visualization.save_dir,\n",
    "            val_loader=val_loader,\n",
    "            epoch_interval=cfg.visualization.epoch_interval,\n",
    "            num_samples=cfg.visualization.num_samples\n",
    "        ),\n",
    "        ModelCheckpoint(\n",
    "            monitor='val/loss',\n",
    "            dirpath=os.path.join(cfg.visualization.save_dir, 'checkpoints'),\n",
    "            filename='autoencoder-{epoch:02d}-{val_loss:.2f}',\n",
    "            save_top_k=3,\n",
    "            mode='min'\n",
    "        ),\n",
    "        EarlyStopping(\n",
    "            monitor='val/loss',\n",
    "            patience=10,\n",
    "            mode='min'\n",
    "        )\n",
    "    ]\n",
    "\n",
    "    # Configuración del entrenador\n",
    "    trainer = pl.Trainer(\n",
    "        max_epochs=cfg.trainer.max_epochs,\n",
    "        callbacks=callbacks,\n",
    "        accelerator=cfg.trainer.accelerator,\n",
    "        devices=cfg.trainer.devices,\n",
    "        log_every_n_steps=cfg.trainer.log_every_n_steps,\n",
    "        gradient_clip_val=cfg.trainer.gradient_clip_val,\n",
    "        precision=cfg.trainer.precision,\n",
    "        check_val_every_n_epoch=cfg.trainer.check_val_every_n_epoch\n",
    "    )\n",
    "\n",
    "    # Entrenamiento del modelo\n",
    "    trainer.fit(model, train_loader, val_loader)\n",
    "    # Prueba del modelo\n",
    "    trainer.test(model, test_loader)\n",
    "\n",
    "    return model, trainer\n",
    "\n",
    "if is_notebook():\n",
    "    # Si es un notebook, se configura OmegaConf manualmente\n",
    "    cfg = OmegaConf.create({\n",
    "        'seed': 42,\n",
    "        'dataset': {\n",
    "            'name': 'FashionMNIST',\n",
    "            'root': './data',\n",
    "            'batch_size': 128,\n",
    "            'num_workers': 4,\n",
    "            'val_split': 0.2,\n",
    "            'normalize': {\n",
    "                'mean': [0.5],\n",
    "                'std': [0.5]\n",
    "            }\n",
    "        },\n",
    "        'model': {\n",
    "            'latent_dim': 64, \n",
    "            'learning_rate': 0.001,\n",
    "            'weight_decay': 1e-5\n",
    "        },\n",
    "        'trainer': {\n",
    "            'max_epochs': 50,  \n",
    "            'accelerator': 'auto',\n",
    "            'devices': 1,\n",
    "            'log_every_n_steps': 50,\n",
    "            'gradient_clip_val': 0.5,\n",
    "            'precision': 32,\n",
    "            'check_val_every_n_epoch': 1\n",
    "        },\n",
    "        'visualization': {\n",
    "            'num_samples': 10,\n",
    "            'epoch_interval': 5,\n",
    "            'save_dir': 'visualization_results'\n",
    "        }\n",
    "    })\n",
    "    main(cfg)\n",
    "else:\n",
    "    # Si es un script regular, se usa Hydra\n",
    "    @hydra.main(config_path=\"conf\", config_name=\"config\", version_base=None)\n",
    "    def hydra_main(cfg: DictConfig):\n",
    "        \"\"\"\n",
    "        Función principal para ejecución con Hydra.\n",
    "\n",
    "        Args:\n",
    "            cfg (DictConfig): Configuración completa del experimento.\n",
    "        \"\"\"\n",
    "        main(cfg)\n",
    "\n",
    "    if __name__ == \"__main__\":\n",
    "        hydra_main()\n"
   ]
  }
 ],
 "metadata": {
  "kernelspec": {
   "display_name": "Python 3",
   "language": "python",
   "name": "python3"
  },
  "language_info": {
   "codemirror_mode": {
    "name": "ipython",
    "version": 3
   },
   "file_extension": ".py",
   "mimetype": "text/x-python",
   "name": "python",
   "nbconvert_exporter": "python",
   "pygments_lexer": "ipython3",
   "version": "3.12.4"
  }
 },
 "nbformat": 4,
 "nbformat_minor": 2
}
